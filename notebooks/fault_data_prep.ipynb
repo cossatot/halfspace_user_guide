{
 "metadata": {
  "name": "",
  "signature": "sha256:34cf48106cf777415488c5f8a80f2a5ab27c322637f63b166b7187491c970149"
 },
 "nbformat": 3,
 "nbformat_minor": 0,
 "worksheets": [
  {
   "cells": [
    {
     "cell_type": "markdown",
     "metadata": {},
     "source": [
      "# Fault Slip Data Preparation\n",
      "\n",
      "This section will cover taking a text file with a fault slip model and making a `pandas` DataFrame that is correctly formatted for doing the topographic and tectonic stress calculations.  We will take a multi-segment model and make new files for each segment, and then make a concatenated file.  We have to do it this way so that we can associate each segment with its parameters that are not already included as columns, such as strike and dip.\n",
      "\n",
      "Some editing will need to be done in the user's text editor of choice."
     ]
    },
    {
     "cell_type": "markdown",
     "metadata": {},
     "source": [
      "We will be using a fault slip model from the [Mw 2013 Balochistan, Pakistan earthquake](http://comcat.cr.usgs.gov/earthquakes/eventpage/usb000jyiv#summary).  The model is from [Avouac et al., 2014](http://www.sciencedirect.com/science/article/pii/S0012821X14000521) and hosted at the [SRCMOD Finite-Source Rupture Model Database](http://equake-rc.info/SRCMOD/).  The [model is here](http://equake-rc.info/SRCMOD/searchmodels/viewmodel/s2013BALOCH01AVOU/).  We will use the [.fsp](http://equake-rc.info/media/srcmod/_fsp_files/s2013BALOCH01AVOU.fsp) file format, which is in the `test_data` folder."
     ]
    },
    {
     "cell_type": "markdown",
     "metadata": {},
     "source": [
      "Go into `test_data` and open the `s2013BALOCH01AVOU.fsp` file in your favorite text editor. Then, copy the data for each segment, with the actual header line:\n",
      "```\n",
      "%    LAT     LON     X==EW     Y==NS     Z     SLIP     RAKE     RISE     TRUP    \n",
      "```\n",
      "into a separate text file, and delete the `%` from the header.  Name each one something like `baloch_s1.fsp` where `s1` signifies the segment number.\n",
      "\n",
      "If you want to, you can further format the files (removing heading and trailing spaces, concatenating whitespace, etc.) which is normally the fastest way, but we will illustrate how to do this using `pandas`, because `pandas` is awesome.\n",
      "\n",
      "First, import open `ipython` (or better yet the `ipython notebook` so you can see the formatted DataFrames) and import the modules."
     ]
    },
    {
     "cell_type": "code",
     "collapsed": false,
     "input": [
      "import pandas as pd\n",
      "import numpy as np\n",
      "import pyproj as pj"
     ],
     "language": "python",
     "metadata": {},
     "outputs": [],
     "prompt_number": 1
    },
    {
     "cell_type": "markdown",
     "metadata": {},
     "source": [
      "Now, we want to read in the .fsp files for each fault segment (which you made with your text editor from hacking the main .fsp file)."
     ]
    },
    {
     "cell_type": "code",
     "collapsed": false,
     "input": [
      "data_dir = '../test_data/'\n",
      "\n",
      "s1 = pd.read_csv(data_dir + 'baloch_s1.fsp', delim_whitespace=True, \n",
      "                 skipinitialspace=True)"
     ],
     "language": "python",
     "metadata": {},
     "outputs": [],
     "prompt_number": 3
    },
    {
     "cell_type": "markdown",
     "metadata": {},
     "source": [
      "now check the formatting:"
     ]
    },
    {
     "cell_type": "code",
     "collapsed": false,
     "input": [
      "s1.head()"
     ],
     "language": "python",
     "metadata": {},
     "outputs": [
      {
       "html": [
        "<div style=\"max-height:1000px;max-width:1500px;overflow:auto;\">\n",
        "<table border=\"1\" class=\"dataframe\">\n",
        "  <thead>\n",
        "    <tr style=\"text-align: right;\">\n",
        "      <th></th>\n",
        "      <th>LAT</th>\n",
        "      <th>LON</th>\n",
        "      <th>X==EW</th>\n",
        "      <th>Y==NS</th>\n",
        "      <th>Z</th>\n",
        "      <th>SLIP</th>\n",
        "      <th>RAKE</th>\n",
        "      <th>RISE</th>\n",
        "      <th>TRUP</th>\n",
        "    </tr>\n",
        "  </thead>\n",
        "  <tbody>\n",
        "    <tr>\n",
        "      <th>0</th>\n",
        "      <td> 27.1152</td>\n",
        "      <td> 65.5036</td>\n",
        "      <td> 17.7058</td>\n",
        "      <td> 27.2426</td>\n",
        "      <td> 0.2171</td>\n",
        "      <td> 1.2632</td>\n",
        "      <td> -2</td>\n",
        "      <td> 11.5</td>\n",
        "      <td> 11.494</td>\n",
        "    </tr>\n",
        "    <tr>\n",
        "      <th>1</th>\n",
        "      <td> 27.0489</td>\n",
        "      <td> 65.4721</td>\n",
        "      <td> 14.5800</td>\n",
        "      <td> 19.8786</td>\n",
        "      <td> 0.2171</td>\n",
        "      <td> 1.2632</td>\n",
        "      <td>  7</td>\n",
        "      <td>  7.0</td>\n",
        "      <td>  8.880</td>\n",
        "    </tr>\n",
        "    <tr>\n",
        "      <th>2</th>\n",
        "      <td> 26.9826</td>\n",
        "      <td> 65.4406</td>\n",
        "      <td> 11.4541</td>\n",
        "      <td> 12.5145</td>\n",
        "      <td> 0.2171</td>\n",
        "      <td> 4.0000</td>\n",
        "      <td> 10</td>\n",
        "      <td>  4.0</td>\n",
        "      <td>  6.387</td>\n",
        "    </tr>\n",
        "    <tr>\n",
        "      <th>3</th>\n",
        "      <td> 26.9164</td>\n",
        "      <td> 65.4090</td>\n",
        "      <td>  8.3283</td>\n",
        "      <td>  5.1505</td>\n",
        "      <td> 0.2171</td>\n",
        "      <td> 5.0000</td>\n",
        "      <td> 10</td>\n",
        "      <td>  4.0</td>\n",
        "      <td>  4.239</td>\n",
        "    </tr>\n",
        "    <tr>\n",
        "      <th>4</th>\n",
        "      <td> 26.8501</td>\n",
        "      <td> 65.3775</td>\n",
        "      <td>  5.2024</td>\n",
        "      <td> -2.2136</td>\n",
        "      <td> 0.2171</td>\n",
        "      <td> 6.0000</td>\n",
        "      <td> 13</td>\n",
        "      <td> 11.5</td>\n",
        "      <td>  3.218</td>\n",
        "    </tr>\n",
        "  </tbody>\n",
        "</table>\n",
        "</div>"
       ],
       "metadata": {},
       "output_type": "pyout",
       "prompt_number": 5,
       "text": [
        "       LAT      LON    X==EW    Y==NS       Z    SLIP  RAKE  RISE    TRUP\n",
        "0  27.1152  65.5036  17.7058  27.2426  0.2171  1.2632    -2  11.5  11.494\n",
        "1  27.0489  65.4721  14.5800  19.8786  0.2171  1.2632     7   7.0   8.880\n",
        "2  26.9826  65.4406  11.4541  12.5145  0.2171  4.0000    10   4.0   6.387\n",
        "3  26.9164  65.4090   8.3283   5.1505  0.2171  5.0000    10   4.0   4.239\n",
        "4  26.8501  65.3775   5.2024  -2.2136  0.2171  6.0000    13  11.5   3.218"
       ]
      }
     ],
     "prompt_number": 5
    },
    {
     "cell_type": "markdown",
     "metadata": {},
     "source": [
      "Great.  We need to do this for the other segments, but first, we need to add some new columns to the DataFrame with important info."
     ]
    },
    {
     "cell_type": "code",
     "collapsed": false,
     "input": [
      "s1['segment'] = 1\n",
      "s1['strike'] = 203.0\n",
      "s1['dip'] = 60.0"
     ],
     "language": "python",
     "metadata": {},
     "outputs": [],
     "prompt_number": 6
    },
    {
     "cell_type": "code",
     "collapsed": false,
     "input": [
      "s1.head()"
     ],
     "language": "python",
     "metadata": {},
     "outputs": [
      {
       "html": [
        "<div style=\"max-height:1000px;max-width:1500px;overflow:auto;\">\n",
        "<table border=\"1\" class=\"dataframe\">\n",
        "  <thead>\n",
        "    <tr style=\"text-align: right;\">\n",
        "      <th></th>\n",
        "      <th>LAT</th>\n",
        "      <th>LON</th>\n",
        "      <th>X==EW</th>\n",
        "      <th>Y==NS</th>\n",
        "      <th>Z</th>\n",
        "      <th>SLIP</th>\n",
        "      <th>RAKE</th>\n",
        "      <th>RISE</th>\n",
        "      <th>TRUP</th>\n",
        "      <th>segment</th>\n",
        "      <th>strike</th>\n",
        "      <th>dip</th>\n",
        "    </tr>\n",
        "  </thead>\n",
        "  <tbody>\n",
        "    <tr>\n",
        "      <th>0</th>\n",
        "      <td> 27.1152</td>\n",
        "      <td> 65.5036</td>\n",
        "      <td> 17.7058</td>\n",
        "      <td> 27.2426</td>\n",
        "      <td> 0.2171</td>\n",
        "      <td> 1.2632</td>\n",
        "      <td> -2</td>\n",
        "      <td> 11.5</td>\n",
        "      <td> 11.494</td>\n",
        "      <td> 1</td>\n",
        "      <td> 203</td>\n",
        "      <td> 60</td>\n",
        "    </tr>\n",
        "    <tr>\n",
        "      <th>1</th>\n",
        "      <td> 27.0489</td>\n",
        "      <td> 65.4721</td>\n",
        "      <td> 14.5800</td>\n",
        "      <td> 19.8786</td>\n",
        "      <td> 0.2171</td>\n",
        "      <td> 1.2632</td>\n",
        "      <td>  7</td>\n",
        "      <td>  7.0</td>\n",
        "      <td>  8.880</td>\n",
        "      <td> 1</td>\n",
        "      <td> 203</td>\n",
        "      <td> 60</td>\n",
        "    </tr>\n",
        "    <tr>\n",
        "      <th>2</th>\n",
        "      <td> 26.9826</td>\n",
        "      <td> 65.4406</td>\n",
        "      <td> 11.4541</td>\n",
        "      <td> 12.5145</td>\n",
        "      <td> 0.2171</td>\n",
        "      <td> 4.0000</td>\n",
        "      <td> 10</td>\n",
        "      <td>  4.0</td>\n",
        "      <td>  6.387</td>\n",
        "      <td> 1</td>\n",
        "      <td> 203</td>\n",
        "      <td> 60</td>\n",
        "    </tr>\n",
        "    <tr>\n",
        "      <th>3</th>\n",
        "      <td> 26.9164</td>\n",
        "      <td> 65.4090</td>\n",
        "      <td>  8.3283</td>\n",
        "      <td>  5.1505</td>\n",
        "      <td> 0.2171</td>\n",
        "      <td> 5.0000</td>\n",
        "      <td> 10</td>\n",
        "      <td>  4.0</td>\n",
        "      <td>  4.239</td>\n",
        "      <td> 1</td>\n",
        "      <td> 203</td>\n",
        "      <td> 60</td>\n",
        "    </tr>\n",
        "    <tr>\n",
        "      <th>4</th>\n",
        "      <td> 26.8501</td>\n",
        "      <td> 65.3775</td>\n",
        "      <td>  5.2024</td>\n",
        "      <td> -2.2136</td>\n",
        "      <td> 0.2171</td>\n",
        "      <td> 6.0000</td>\n",
        "      <td> 13</td>\n",
        "      <td> 11.5</td>\n",
        "      <td>  3.218</td>\n",
        "      <td> 1</td>\n",
        "      <td> 203</td>\n",
        "      <td> 60</td>\n",
        "    </tr>\n",
        "  </tbody>\n",
        "</table>\n",
        "</div>"
       ],
       "metadata": {},
       "output_type": "pyout",
       "prompt_number": 7,
       "text": [
        "       LAT      LON    X==EW    Y==NS       Z    SLIP  RAKE  RISE    TRUP  \\\n",
        "0  27.1152  65.5036  17.7058  27.2426  0.2171  1.2632    -2  11.5  11.494   \n",
        "1  27.0489  65.4721  14.5800  19.8786  0.2171  1.2632     7   7.0   8.880   \n",
        "2  26.9826  65.4406  11.4541  12.5145  0.2171  4.0000    10   4.0   6.387   \n",
        "3  26.9164  65.4090   8.3283   5.1505  0.2171  5.0000    10   4.0   4.239   \n",
        "4  26.8501  65.3775   5.2024  -2.2136  0.2171  6.0000    13  11.5   3.218   \n",
        "\n",
        "   segment  strike  dip  \n",
        "0        1     203   60  \n",
        "1        1     203   60  \n",
        "2        1     203   60  \n",
        "3        1     203   60  \n",
        "4        1     203   60  "
       ]
      }
     ],
     "prompt_number": 7
    },
    {
     "cell_type": "markdown",
     "metadata": {},
     "source": [
      "Now we do the same for all of the fault segments."
     ]
    },
    {
     "cell_type": "code",
     "collapsed": false,
     "input": [
      "s2 = pd.read_csv(data_dir + 'baloch_s2.fsp', delim_whitespace=True, \n",
      "                 skipinitialspace=True)\n",
      "s3 = pd.read_csv(data_dir + 'baloch_s3.fsp', delim_whitespace=True, \n",
      "                 skipinitialspace=True)\n",
      "s4 = pd.read_csv(data_dir + 'baloch_s4.fsp', delim_whitespace=True, \n",
      "                 skipinitialspace=True)\n",
      "s5 = pd.read_csv(data_dir + 'baloch_s5.fsp', delim_whitespace=True, \n",
      "                 skipinitialspace=True)\n",
      "s6 = pd.read_csv(data_dir + 'baloch_s6.fsp', delim_whitespace=True, \n",
      "                 skipinitialspace=True)\n",
      "s7 = pd.read_csv(data_dir + 'baloch_s7.fsp', delim_whitespace=True, \n",
      "                 skipinitialspace=True)"
     ],
     "language": "python",
     "metadata": {},
     "outputs": [],
     "prompt_number": 8
    },
    {
     "cell_type": "code",
     "collapsed": false,
     "input": [
      "s2['segment'] = 2\n",
      "s2['strike'] = 216.0\n",
      "s2['dip'] = 70.0\n",
      "\n",
      "s3['segment'] = 3\n",
      "s3['strike'] = 223.0\n",
      "s3['dip'] = 47.0\n",
      "\n",
      "s4['segment'] = 4\n",
      "s4['strike'] = 230.0\n",
      "s4['dip'] = 47.0\n",
      "\n",
      "s5['segment'] = 5\n",
      "s5['strike'] = 238.0\n",
      "s5['dip'] = 56.0\n",
      "\n",
      "s6['segment'] = 6\n",
      "s6['strike'] = 203.0\n",
      "s6['dip'] = 56.0\n",
      "\n",
      "s7['segment'] = 7\n",
      "s7['strike'] = 251.0\n",
      "s7['dip'] = 56.0\n"
     ],
     "language": "python",
     "metadata": {},
     "outputs": [],
     "prompt_number": 9
    },
    {
     "cell_type": "markdown",
     "metadata": {},
     "source": [
      "### Combine slip models into single dataframe"
     ]
    },
    {
     "cell_type": "code",
     "collapsed": false,
     "input": [
      "bdf = pd.concat([s1, s2, s3, s4, s5, s6, s7])"
     ],
     "language": "python",
     "metadata": {},
     "outputs": [],
     "prompt_number": 10
    },
    {
     "cell_type": "markdown",
     "metadata": {},
     "source": [
      "rename columns so they're easier to type"
     ]
    },
    {
     "cell_type": "code",
     "collapsed": false,
     "input": [
      "bdf.columns = ['lat', 'lon', 'x', 'y', 'z', 'slip_m', 'rake', 'rise',\n",
      "               'rupture_time', 'segment', 'strike', 'dip']"
     ],
     "language": "python",
     "metadata": {},
     "outputs": [],
     "prompt_number": 13
    },
    {
     "cell_type": "code",
     "collapsed": false,
     "input": [],
     "language": "python",
     "metadata": {},
     "outputs": []
    }
   ],
   "metadata": {}
  }
 ]
}