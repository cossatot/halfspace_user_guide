{
 "metadata": {
  "name": "",
  "signature": "sha256:b930ff1568ed1588bcbc73d58f5f784cee9d060b6c19f14b3a68c0060609799b"
 },
 "nbformat": 3,
 "nbformat_minor": 0,
 "worksheets": [
  {
   "cells": [
    {
     "cell_type": "markdown",
     "metadata": {},
     "source": [
      "# Installation and configuration"
     ]
    },
    {
     "cell_type": "markdown",
     "metadata": {},
     "source": [
      "## Scientific Python installation"
     ]
    },
    {
     "cell_type": "markdown",
     "metadata": {},
     "source": [
      "The first step in using `halfspace` for topographic stress calculations is to get Python installed w/ the appropriate scientific dependencies.\n",
      "\n",
      "Configuration of Python for scientific computing has historically been a huge pain, but recently has gotten a whole lot easier with the advent of two scientific distributions for Python that come with package managers: [Canopy](https://www.enthought.com/products/canopy/) by [Enthought](www.enthought.com), and [Anaconda](http://docs.continuum.io/anaconda/) by [Continuum Analytics](http://continuum.io). I have used Anaconda extensively, and find it a little easier because it's lighter-weight and is self-contained: it stays in a folder where you place it, doesn't touch the system Python, and doesn't require root/sudo access to install or modify packages.  This means it's easy to place on shared computing resources.\n",
      "\n",
      "This guide will deal exclusively with Anaconda Python."
     ]
    },
    {
     "cell_type": "markdown",
     "metadata": {},
     "source": [
      "(installation stuff will go here)"
     ]
    },
    {
     "cell_type": "markdown",
     "metadata": {},
     "source": [
      "If the minimum Anaconda is installed (i.e. just Python and its direct dependencies), the following packages will need to be installed through the package manager `conda`:\n",
      "\n",
      "```\n",
      "conda install ipython pandas numpy scipy matplotlib statsmodels pip gdal pyzmq jinja2 tornado\n",
      "```\n",
      "\n",
      "Most/all of these should be available in the full Anaconda distribution if that was installed.  The last three packages are not explicitly required for any of the calculations that we do, but are required for using the [IPython Notebook](http://ipython.org/notebook.html), which is honestly the most useful tool for scientific computing since interpreted languages.\n",
      "\n",
      "Really."
     ]
    },
    {
     "cell_type": "markdown",
     "metadata": {},
     "source": [
      "Then, install some other dependencies using `pip` at the command line:\n",
      "\n",
      "```pip install pyproj```"
     ]
    },
    {
     "cell_type": "markdown",
     "metadata": {},
     "source": [
      "## Halfspace installation"
     ]
    },
    {
     "cell_type": "markdown",
     "metadata": {},
     "source": [
      "Once this has all been installed, we can install `halfspace`.  The first step is to get it from its repository on [GitHub](http://github.com). If you are using [git](http://git-scm.com), and you really should be, you can clone the repository (repo). Go to the directory you would like to clone it into (not the intended `halfspace` directory, but one above that where you want to put it) and type:\n",
      "\n",
      "```\n",
      "git clone https://github.com/cossatot/halfspace.git\n",
      "```\n",
      "\n",
      "If you don't have git, you can go to [https://github.com/cossatot/halfspace](https://github.com/cossatot/halfspace) and download the [.zip](https://github.com/cossatot/halfspace/archive/master.zip) and extract it wherever."
     ]
    },
    {
     "cell_type": "markdown",
     "metadata": {},
     "source": [
      "Then, go into the directory and install it with `pip`:\n",
      "```\n",
      "python setup.py install\n",
      "```\n",
      "\n",
      "This should place the `halfspace` module in the path and verify that (at least some of) it works. In the future, there will be unit tests that can be run at this time."
     ]
    },
    {
     "cell_type": "code",
     "collapsed": false,
     "input": [],
     "language": "python",
     "metadata": {},
     "outputs": []
    }
   ],
   "metadata": {}
  }
 ]
}