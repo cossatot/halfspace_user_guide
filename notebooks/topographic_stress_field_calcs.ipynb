{
 "metadata": {
  "name": "",
  "signature": "sha256:931c6dbd750a95036e828f6a10d731f66ccb9a2e9e1815460c718771a98354f1"
 },
 "nbformat": 3,
 "nbformat_minor": 0,
 "worksheets": [
  {
   "cells": [
    {
     "cell_type": "markdown",
     "metadata": {},
     "source": [
      "# Calculating the topographic stress field"
     ]
    },
    {
     "cell_type": "markdown",
     "metadata": {},
     "source": [
      "In this section, we calculate the topographic stresses in an array "
     ]
    },
    {
     "cell_type": "code",
     "collapsed": false,
     "input": [
      "import numpy as np\n",
      "import halfspace.load as hs\n",
      "import halfspace.sandbox as hbx\n",
      "import time\n",
      "import h5py\n",
      "import json"
     ],
     "language": "python",
     "metadata": {},
     "outputs": [],
     "prompt_number": 3
    },
    {
     "cell_type": "code",
     "collapsed": false,
     "input": [
      "stress_dir = '../stress_arrays/'\n",
      "b_stress_file = stress_dir + 'baloch_bouss_stress.h5'\n",
      "c_stress_file = stress_dir + 'baloch_cerr_stress.h5'\n",
      "stress_file = stress_dir + 'baloch_topo_stress.h5'"
     ],
     "language": "python",
     "metadata": {},
     "outputs": [],
     "prompt_number": 2
    },
    {
     "cell_type": "code",
     "collapsed": false,
     "input": [
      "dem_file = '../test_data/dem/baloch_dem_utm41n_445m.npy'"
     ],
     "language": "python",
     "metadata": {},
     "outputs": [],
     "prompt_number": 4
    },
    {
     "cell_type": "markdown",
     "metadata": {},
     "source": [
      "## set up the problem"
     ]
    },
    {
     "cell_type": "code",
     "collapsed": false,
     "input": [
      "rho = 2700  # density in kg m^-3\n",
      "g = 9.81    # gravitational force in m s^-2\n",
      "Fv = - rho * g\n",
      "study_res = 600 # resolution for topography, filters, etc.\n",
      "z_res = 1000\n",
      "b_conv_mode = 'valid'\n",
      "c_conv_mode = 'same'\n",
      "\n",
      "z_min = 445\n",
      "z_max = 26445\n",
      "z_len = int( (z_max - z_min) / z_res + 1)\n",
      "z_vec = np.linspace(z_min, z_max, num=z_len)\n",
      "\n",
      "kernel_rad = 1.5e5\n",
      "kernel_len = int( kernel_rad * 2 / study_res +1 )\n",
      "kernel_shape = np.array( [kernel_len, kernel_len] )"
     ],
     "language": "python",
     "metadata": {},
     "outputs": [],
     "prompt_number": 6
    },
    {
     "cell_type": "code",
     "collapsed": false,
     "input": [],
     "language": "python",
     "metadata": {},
     "outputs": []
    }
   ],
   "metadata": {}
  }
 ]
}