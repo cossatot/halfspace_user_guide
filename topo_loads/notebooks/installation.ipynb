{
 "metadata": {
  "name": "",
  "signature": "sha256:10eb7570332c2afc114c7f859867151aee639abb6b1aecbdb774375aafccad18"
 },
 "nbformat": 3,
 "nbformat_minor": 0,
 "worksheets": [
  {
   "cells": [
    {
     "cell_type": "markdown",
     "metadata": {},
     "source": [
      "# Installation and configuration"
     ]
    },
    {
     "cell_type": "markdown",
     "metadata": {},
     "source": [
      "## Scientific Python installation"
     ]
    },
    {
     "cell_type": "markdown",
     "metadata": {},
     "source": [
      "The first step in using `halfspace` for topographic stress calculations is to get Python installed w/ the appropriate scientific dependencies.\n",
      "\n",
      "Configuration of Python for scientific computing has historically been a huge pain, but recently has gotten a whole lot easier with the advent of two scientific distributions for Python that come with package managers: [Canopy](https://www.enthought.com/products/canopy/) by [Enthought](www.enthought.com), and [Anaconda](http://docs.continuum.io/anaconda/) by [Continuum Analytics](http://continuum.io). I have used Anaconda extensively, and find it a little easier because it's lighter-weight and is self-contained: it stays in a folder where you place it, doesn't touch the system Python, and doesn't require root/sudo access to install or modify packages.  This means it's easy to place on shared computing resources.  Best of all, it uses a package manager called `conda` that is extremely easy to use.\n",
      "\n",
      "This guide will deal exclusively with Anaconda Python."
     ]
    },
    {
     "cell_type": "markdown",
     "metadata": {},
     "source": [
      "### Installing Anaconda Python.\n",
      "\n",
      "There are two options for installing Anaconda Python.  The first is the easiest, which just involves [downloading and running a shell script (or even a gui now for OSX and Windows)][1], will download the entire Anaconda Python distribution, which includes Python and a lot of compatible packages that are geared towards scientific computing and data visualization.\n",
      "\n",
      "The other option is to use the [Miniconda installer][2] that will only install a very bare-bones Python, and then you can add only the necessary modules as below.\n",
      "\n",
      "Also if you're an academic or rich or both, you can get a license for the [Accelerate][3] additions to Anaconda that include better linear algebra and GPU libraries for NumPy that can speed up computations significantly.\n",
      "\n",
      "[1]: http://continuum.io/downloads\n",
      "[2]: http://conda.pydata.org/miniconda.html\n",
      "[3]: https://store.continuum.io/cshop/accelerate/"
     ]
    },
    {
     "cell_type": "markdown",
     "metadata": {},
     "source": [
      "If the minimum Anaconda is installed (i.e. just Python and its direct dependencies), the following packages will need to be installed through the package manager `conda`:\n",
      "\n",
      "```\n",
      "conda install ipython pandas numpy scipy matplotlib statsmodels pip gdal h5py pyzmq jinja2 tornado\n",
      "```\n",
      "\n",
      "Most/all of these should be available in the full Anaconda distribution if that was installed.  The last three packages are not explicitly required for any of the calculations that we do, but are required for using the [IPython Notebook](http://ipython.org/notebook.html), which is honestly the most useful tool for scientific computing since interpreted languages.\n",
      "\n",
      "Really."
     ]
    },
    {
     "cell_type": "markdown",
     "metadata": {},
     "source": [
      "### Installing PyProj\n",
      "Then, install the final dependency using `pip` at the command line:\n",
      "\n",
      "```pip install pyproj```"
     ]
    },
    {
     "cell_type": "markdown",
     "metadata": {},
     "source": [
      "## Halfspace installation"
     ]
    },
    {
     "cell_type": "markdown",
     "metadata": {},
     "source": [
      "Once this has all been installed, we can install `halfspace`.  The first step is to get it from its repository on [GitHub](http://github.com). If you are using [git](http://git-scm.com), and you really should be, you can clone the repository (repo). Go to the directory you would like to clone it into (not the intended `halfspace` directory, but one above that where you want to put it) and type:\n",
      "\n",
      "```\n",
      "git clone https://github.com/cossatot/halfspace.git\n",
      "```\n",
      "\n",
      "If you don't have git, you can go to [https://github.com/cossatot/halfspace](https://github.com/cossatot/halfspace) and download the [.zip](https://github.com/cossatot/halfspace/archive/master.zip) and extract it wherever."
     ]
    },
    {
     "cell_type": "markdown",
     "metadata": {},
     "source": [
      "Then, go into the directory and install it with `pip`:\n",
      "```\n",
      "python setup.py install\n",
      "```\n",
      "\n",
      "This should place the `halfspace` module in the path and verify that (at least some of) it works. In the future, there will be unit tests that can be run at this time."
     ]
    }
   ],
   "metadata": {}
  }
 ]
}